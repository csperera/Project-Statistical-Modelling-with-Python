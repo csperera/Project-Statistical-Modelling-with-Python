{
 "cells": [
  {
   "cell_type": "markdown",
   "metadata": {},
   "source": [
    "Build a regression model."
   ]
  },
  {
   "cell_type": "markdown",
   "metadata": {},
   "source": [
    "#### Let's take a look at the relationship between features with a heatmap"
   ]
  },
  {
   "cell_type": "code",
   "execution_count": 2,
   "metadata": {},
   "outputs": [],
   "source": [
    "import pandas as pd\n",
    "import seaborn as sns\n",
    "import matplotlib.pyplot as plt\n",
    "\n",
    "# Load data \n",
    "df_joined = pd.read_csv('joined.csv', index_col=None)\n",
    "\n",
    "# Creating heatmap data\n",
    "df_heatmap = df_joined[['usage','total_bikes','poi_distance']].copy()"
   ]
  },
  {
   "cell_type": "code",
   "execution_count": 3,
   "metadata": {},
   "outputs": [
    {
     "data": {
      "image/png": "[encoded data removed]",
      "text/plain": [
       "<Figure size 300x300 with 2 Axes>"
      ]
     },
     "metadata": {},
     "output_type": "display_data"
    }
   ],
   "source": [
    "# Create a heatmap using seaborn\n",
    "plt.figure(figsize=(3, 3))  # Set the figure size\n",
    "\n",
    "# Create the heatmap\n",
    "c= df_heatmap.corr()\n",
    "sns.heatmap(c,cmap=\"BrBG\",annot=True)\n",
    "\n",
    "# Add labels and title\n",
    "plt.xlabel(\"Columns\")\n",
    "plt.ylabel(\"Rows\")\n",
    "plt.title(\"Heatmap of DataFrame\")\n",
    "\n",
    "# Show the plot\n",
    "plt.show()"
   ]
  },
  {
   "cell_type": "markdown",
   "metadata": {},
   "source": [
    "#### The heatmap shows some interesting results, indicating that usage seems to be negatively corellated with the total number of bikes at a station - meaning as the total number of bikes at a station go up, usage percentage seems to go down.  This might mean that Broward B-Cycle is over-supplying the marketplace with bikes. Conversely as the distance from points of interest increase, the total number of bikes increase - meaning people need bikes to ride to far-off points of interest."
   ]
  },
  {
   "cell_type": "code",
   "execution_count": 4,
   "metadata": {},
   "outputs": [],
   "source": [
    "#Import Libraries\n",
    "\n",
    "import pandas as pd \n",
    "import numpy as np \n",
    "import statsmodels.api as sm \n",
    "X = df_joined[['usage', 'poi_distance']] \n",
    "y = df_joined['total_bikes']"
   ]
  },
  {
   "cell_type": "code",
   "execution_count": 5,
   "metadata": {},
   "outputs": [],
   "source": [
    "## fit a OLS model with intercept on TV and Radio \n",
    "X = sm.add_constant(X) \n",
    "est = sm.OLS(y, X).fit()"
   ]
  },
  {
   "cell_type": "markdown",
   "metadata": {},
   "source": [
    "Provide model output and an interpretation of the results. "
   ]
  },
  {
   "cell_type": "code",
   "execution_count": 6,
   "metadata": {},
   "outputs": [
    {
     "data": {
      "text/html": [
       "<table class=\"simpletable\">\n",
       "<caption>OLS Regression Results</caption>\n",
       "<tr>\n",
       "  <th>Dep. Variable:</th>       <td>total_bikes</td>   <th>  R-squared:         </th> <td>   0.015</td>\n",
       "</tr>\n",
       "<tr>\n",
       "  <th>Model:</th>                   <td>OLS</td>       <th>  Adj. R-squared:    </th> <td>   0.012</td>\n",
       "</tr>\n",
       "<tr>\n",
       "  <th>Method:</th>             <td>Least Squares</td>  <th>  F-statistic:       </th> <td>   4.440</td>\n",
       "</tr>\n",
       "<tr>\n",
       "  <th>Date:</th>             <td>Tue, 12 Sep 2023</td> <th>  Prob (F-statistic):</th>  <td>0.0122</td> \n",
       "</tr>\n",
       "<tr>\n",
       "  <th>Time:</th>                 <td>11:06:13</td>     <th>  Log-Likelihood:    </th> <td> -1250.4</td>\n",
       "</tr>\n",
       "<tr>\n",
       "  <th>No. Observations:</th>      <td>   570</td>      <th>  AIC:               </th> <td>   2507.</td>\n",
       "</tr>\n",
       "<tr>\n",
       "  <th>Df Residuals:</th>          <td>   567</td>      <th>  BIC:               </th> <td>   2520.</td>\n",
       "</tr>\n",
       "<tr>\n",
       "  <th>Df Model:</th>              <td>     2</td>      <th>                     </th>     <td> </td>   \n",
       "</tr>\n",
       "<tr>\n",
       "  <th>Covariance Type:</th>      <td>nonrobust</td>    <th>                     </th>     <td> </td>   \n",
       "</tr>\n",
       "</table>\n",
       "<table class=\"simpletable\">\n",
       "<tr>\n",
       "        <td></td>          <th>coef</th>     <th>std err</th>      <th>t</th>      <th>P>|t|</th>  <th>[0.025</th>    <th>0.975]</th>  \n",
       "</tr>\n",
       "<tr>\n",
       "  <th>const</th>        <td>   12.3697</td> <td>    0.279</td> <td>   44.382</td> <td> 0.000</td> <td>   11.822</td> <td>   12.917</td>\n",
       "</tr>\n",
       "<tr>\n",
       "  <th>usage</th>        <td>   -1.2977</td> <td>    0.525</td> <td>   -2.473</td> <td> 0.014</td> <td>   -2.328</td> <td>   -0.267</td>\n",
       "</tr>\n",
       "<tr>\n",
       "  <th>poi_distance</th> <td>    0.0005</td> <td>    0.000</td> <td>    1.646</td> <td> 0.100</td> <td>-9.48e-05</td> <td>    0.001</td>\n",
       "</tr>\n",
       "</table>\n",
       "<table class=\"simpletable\">\n",
       "<tr>\n",
       "  <th>Omnibus:</th>       <td>63.935</td> <th>  Durbin-Watson:     </th> <td>   0.154</td>\n",
       "</tr>\n",
       "<tr>\n",
       "  <th>Prob(Omnibus):</th> <td> 0.000</td> <th>  Jarque-Bera (JB):  </th> <td>  84.315</td>\n",
       "</tr>\n",
       "<tr>\n",
       "  <th>Skew:</th>          <td> 0.941</td> <th>  Prob(JB):          </th> <td>4.91e-19</td>\n",
       "</tr>\n",
       "<tr>\n",
       "  <th>Kurtosis:</th>      <td> 3.083</td> <th>  Cond. No.          </th> <td>3.09e+03</td>\n",
       "</tr>\n",
       "</table><br/><br/>Notes:<br/>[1] Standard Errors assume that the covariance matrix of the errors is correctly specified.<br/>[2] The condition number is large, 3.09e+03. This might indicate that there are<br/>strong multicollinearity or other numerical problems."
      ],
      "text/plain": [
       "<class 'statsmodels.iolib.summary.Summary'>\n",
       "\"\"\"\n",
       "                            OLS Regression Results                            \n",
       "==============================================================================\n",
       "Dep. Variable:            total_bikes   R-squared:                       0.015\n",
       "Model:                            OLS   Adj. R-squared:                  0.012\n",
       "Method:                 Least Squares   F-statistic:                     4.440\n",
       "Date:                Tue, 12 Sep 2023   Prob (F-statistic):             0.0122\n",
       "Time:                        11:06:13   Log-Likelihood:                -1250.4\n",
       "No. Observations:                 570   AIC:                             2507.\n",
       "Df Residuals:                     567   BIC:                             2520.\n",
       "Df Model:                           2                                         \n",
       "Covariance Type:            nonrobust                                         \n",
       "================================================================================\n",
       "                   coef    std err          t      P>|t|      [0.025      0.975]\n",
       "--------------------------------------------------------------------------------\n",
       "const           12.3697      0.279     44.382      0.000      11.822      12.917\n",
       "usage           -1.2977      0.525     -2.473      0.014      -2.328      -0.267\n",
       "poi_distance     0.0005      0.000      1.646      0.100   -9.48e-05       0.001\n",
       "==============================================================================\n",
       "Omnibus:                       63.935   Durbin-Watson:                   0.154\n",
       "Prob(Omnibus):                  0.000   Jarque-Bera (JB):               84.315\n",
       "Skew:                           0.941   Prob(JB):                     4.91e-19\n",
       "Kurtosis:                       3.083   Cond. No.                     3.09e+03\n",
       "==============================================================================\n",
       "\n",
       "Notes:\n",
       "[1] Standard Errors assume that the covariance matrix of the errors is correctly specified.\n",
       "[2] The condition number is large, 3.09e+03. This might indicate that there are\n",
       "strong multicollinearity or other numerical problems.\n",
       "\"\"\""
      ]
     },
     "execution_count": 6,
     "metadata": {},
     "output_type": "execute_result"
    }
   ],
   "source": [
    "est.summary()"
   ]
  },
  {
   "cell_type": "markdown",
   "metadata": {},
   "source": [
    "#### We have an R-squared value is of 0.015% which is not great. It means that the degree of variance in Y variable is not very well explained by X variables - which means that in all likelihood the X variables we're using are not particularly good. \n",
    "\n",
    "#### After looking at the p values we can see that ‘poi_distance’ is not a significant X variable since p value is greater than 0.05. The  'usage' X variable does seem to be significant.\n",
    "\n",
    "#### In conclusion, we can say that the 'poi_distance' does not explain the degree of variance in the Y variable in a statistically significant way.  The 'usage' variable, although significant is not a major contributor to the degree of variance in Y. "
   ]
  },
  {
   "cell_type": "markdown",
   "metadata": {},
   "source": [
    "# Stretch"
   ]
  },
  {
   "cell_type": "markdown",
   "metadata": {},
   "source": [
    "How can you turn the regression model into a classification model?"
   ]
  },
  {
   "cell_type": "markdown",
   "metadata": {},
   "source": [
    "#### To turn a regression model into a classification model, you need to transform the continuous output produced by the regression model into discrete class labels.  For instance, predictions greater than or equal to, say, 0.5 are classified as 1, and predictions less than 0.5 are classified as 0."
   ]
  }
 ],
 "metadata": {
  "kernelspec": {
   "display_name": "Python 3 (ipykernel)",
   "language": "python",
   "name": "python3"
  },
  "language_info": {
   "codemirror_mode": {
    "name": "ipython",
    "version": 3
   },
   "file_extension": ".py",
   "mimetype": "text/x-python",
   "name": "python",
   "nbconvert_exporter": "python",
   "pygments_lexer": "ipython3",
   "version": "3.10.9"
  }
 },
 "nbformat": 4,
 "nbformat_minor": 4
}
