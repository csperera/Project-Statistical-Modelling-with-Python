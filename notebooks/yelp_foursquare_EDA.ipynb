{
 "cells": [
  {
   "cell_type": "code",
   "execution_count": 1,
   "metadata": {},
   "outputs": [
    {
     "name": "stdout",
     "output_type": "stream",
     "text": [
      "libraries imported\n"
     ]
    }
   ],
   "source": [
    "# imports\n",
    "import pandas as pd\n",
    "import json\n",
    "import requests\n",
    "import folium\n",
    "print (\"libraries imported\")"
   ]
  },
  {
   "cell_type": "markdown",
   "metadata": {},
   "source": [
    "#### Loading stations dataframe"
   ]
  },
  {
   "cell_type": "code",
   "execution_count": 2,
   "metadata": {},
   "outputs": [],
   "source": [
    "stations_df = pd.read_csv('stations.csv')"
   ]
  },
  {
   "cell_type": "markdown",
   "metadata": {},
   "source": [
    "# Foursquare"
   ]
  },
  {
   "cell_type": "markdown",
   "metadata": {},
   "source": [
    "Send a request to Foursquare with a small radius (1000m) for all the bike stations in your city of choice. "
   ]
  },
  {
   "cell_type": "markdown",
   "metadata": {},
   "source": [
    "### I CREATED A FUNCTION FOR FOURSQUARE TO ITERATE OVER THE DATAFRAME OF STATIONS"
   ]
  },
  {
   "cell_type": "code",
   "execution_count": 3,
   "metadata": {},
   "outputs": [],
   "source": [
    "def getNearbyPOI(latitude, longitude):\n",
    "    \n",
    "    url = \"https://api.foursquare.com/v3/places/search\"\n",
    "\n",
    "    params = {\n",
    "    \"radius\":\"1000\",\n",
    "  \t\"ll\": f\"{latitude},{longitude}\",\n",
    "  \t\"open_now\": \"true\",\n",
    "  \t\"sort\":\"DISTANCE\"\n",
    "    }\n",
    "\n",
    "    headers = {\n",
    "    \"Accept\": \"application/json\",\n",
    "    \"Authorization\": \"fsq3KKRisSK1dwYHI3BlvESFIU4LjVkyURq0ipp9jNCHwxc=\"\n",
    "    }\n",
    "\n",
    "    response = requests.request(\"GET\", url, params=params, headers=headers)\n",
    "\n",
    "    r_json=json.loads(response.text)\n",
    "    \n",
    "    return r_json\n",
    "\n"
   ]
  },
  {
   "cell_type": "markdown",
   "metadata": {},
   "source": [
    "Parse through the response to get the POI (such as restaurants, bars, etc) details you want (ratings, name, location, etc)"
   ]
  },
  {
   "cell_type": "markdown",
   "metadata": {},
   "source": [
    "### AFTER WORKING WITH A MENTOR, I MANAGED TO CREATE A DATAFRAME WITH BOTH THE STATION DETAILS (NAME, LAT, LONG, USAGE) AND THE POINT OF INTEREST DETAILS (NAME, DISTANCE, RATING, ADDRESS) ALL WRITTEN TO A DATAFRAME \"df_fspoi\" AS DETAILED BELOW¶"
   ]
  },
  {
   "cell_type": "code",
   "execution_count": 4,
   "metadata": {},
   "outputs": [],
   "source": [
    "df_fspoi = pd.DataFrame(columns=['station','usage','total_bikes','poi_name', 'poi_distance', 'poi_address'])\n",
    "\n",
    "for index, station in stations_df.iterrows():\n",
    "    myjson=getNearbyPOI(station['latitude'],station['longitude'])\n",
    "    for business in myjson['results']:  \n",
    "        fs_info_data = {\n",
    "                \"name\": business['name'],\n",
    "                \"distance\": business['distance'],\n",
    "                \"address\": business['location']['formatted_address']}\n",
    "        row = [station['name'],station['usage_percentage'],station['total_bikes'],fs_info_data['name'],fs_info_data['distance'],fs_info_data['address']]\n",
    "        df_fspoi.loc[len(df_fspoi)] = row"
   ]
  },
  {
   "cell_type": "markdown",
   "metadata": {},
   "source": [
    "Put your parsed results into a DataFrame"
   ]
  },
  {
   "cell_type": "code",
   "execution_count": 5,
   "metadata": {
    "scrolled": false
   },
   "outputs": [
    {
     "data": {
      "text/html": [
       "<div>\n",
       "<style scoped>\n",
       "    .dataframe tbody tr th:only-of-type {\n",
       "        vertical-align: middle;\n",
       "    }\n",
       "\n",
       "    .dataframe tbody tr th {\n",
       "        vertical-align: top;\n",
       "    }\n",
       "\n",
       "    .dataframe thead th {\n",
       "        text-align: right;\n",
       "    }\n",
       "</style>\n",
       "<table border=\"1\" class=\"dataframe\">\n",
       "  <thead>\n",
       "    <tr style=\"text-align: right;\">\n",
       "      <th></th>\n",
       "      <th>station</th>\n",
       "      <th>usage</th>\n",
       "      <th>total_bikes</th>\n",
       "      <th>poi_name</th>\n",
       "      <th>poi_distance</th>\n",
       "      <th>poi_address</th>\n",
       "    </tr>\n",
       "  </thead>\n",
       "  <tbody>\n",
       "    <tr>\n",
       "      <th>0</th>\n",
       "      <td>Hollywood North Beach</td>\n",
       "      <td>0.636364</td>\n",
       "      <td>11</td>\n",
       "      <td>Hollywood North Beach Park</td>\n",
       "      <td>9</td>\n",
       "      <td>3601 N Ocean Dr, Hollywood, FL 33019</td>\n",
       "    </tr>\n",
       "    <tr>\n",
       "      <th>1</th>\n",
       "      <td>Hollywood North Beach</td>\n",
       "      <td>0.636364</td>\n",
       "      <td>11</td>\n",
       "      <td>Food King</td>\n",
       "      <td>414</td>\n",
       "      <td>3111 N Surf Rd, Hollywood, FL 33019</td>\n",
       "    </tr>\n",
       "    <tr>\n",
       "      <th>2</th>\n",
       "      <td>Hollywood North Beach</td>\n",
       "      <td>0.636364</td>\n",
       "      <td>11</td>\n",
       "      <td>Oceans 13 Sports Bar &amp; Grill</td>\n",
       "      <td>432</td>\n",
       "      <td>3111 N Surf Rd, Hollywood, FL 33019</td>\n",
       "    </tr>\n",
       "    <tr>\n",
       "      <th>3</th>\n",
       "      <td>Hollywood North Beach</td>\n",
       "      <td>0.636364</td>\n",
       "      <td>11</td>\n",
       "      <td>Anne Kolb Nature Center</td>\n",
       "      <td>614</td>\n",
       "      <td>751 Sheridan St, Hollywood, FL 33019</td>\n",
       "    </tr>\n",
       "    <tr>\n",
       "      <th>4</th>\n",
       "      <td>Hollywood North Beach</td>\n",
       "      <td>0.636364</td>\n",
       "      <td>11</td>\n",
       "      <td>Marine Environmental Education Center at the C...</td>\n",
       "      <td>696</td>\n",
       "      <td>4414 N Surf Rd, Hollywood, FL 33019</td>\n",
       "    </tr>\n",
       "    <tr>\n",
       "      <th>...</th>\n",
       "      <td>...</td>\n",
       "      <td>...</td>\n",
       "      <td>...</td>\n",
       "      <td>...</td>\n",
       "      <td>...</td>\n",
       "      <td>...</td>\n",
       "    </tr>\n",
       "    <tr>\n",
       "      <th>188</th>\n",
       "      <td>Willingham Park</td>\n",
       "      <td>0.769231</td>\n",
       "      <td>13</td>\n",
       "      <td>Art of Petals</td>\n",
       "      <td>203</td>\n",
       "      <td>2200 NE 33rd Ave, Fort Lauderdale, FL 33305</td>\n",
       "    </tr>\n",
       "    <tr>\n",
       "      <th>189</th>\n",
       "      <td>Willingham Park</td>\n",
       "      <td>0.769231</td>\n",
       "      <td>13</td>\n",
       "      <td>Lu Deaner Park</td>\n",
       "      <td>214</td>\n",
       "      <td>2125 NE 33rd Ave, Fort Lauderdale, FL 33305</td>\n",
       "    </tr>\n",
       "    <tr>\n",
       "      <th>190</th>\n",
       "      <td>Willingham Park</td>\n",
       "      <td>0.769231</td>\n",
       "      <td>13</td>\n",
       "      <td>Calypso Villas by the Beach</td>\n",
       "      <td>444</td>\n",
       "      <td>2419 NE 33rd Ave (33rd ave.), Fort Lauderdale,...</td>\n",
       "    </tr>\n",
       "    <tr>\n",
       "      <th>191</th>\n",
       "      <td>Willingham Park</td>\n",
       "      <td>0.769231</td>\n",
       "      <td>13</td>\n",
       "      <td>Sandra Lee Apartments Motel</td>\n",
       "      <td>540</td>\n",
       "      <td>2307 NE 33rd Ave, Fort Lauderdale, FL 33305</td>\n",
       "    </tr>\n",
       "    <tr>\n",
       "      <th>192</th>\n",
       "      <td>Willingham Park</td>\n",
       "      <td>0.769231</td>\n",
       "      <td>13</td>\n",
       "      <td>St Pius X Catholic Church</td>\n",
       "      <td>612</td>\n",
       "      <td>2500 NE 33rd Ave, Fort Lauderdale, FL 33305</td>\n",
       "    </tr>\n",
       "  </tbody>\n",
       "</table>\n",
       "<p>193 rows × 6 columns</p>\n",
       "</div>"
      ],
      "text/plain": [
       "                   station     usage  total_bikes  \\\n",
       "0    Hollywood North Beach  0.636364           11   \n",
       "1    Hollywood North Beach  0.636364           11   \n",
       "2    Hollywood North Beach  0.636364           11   \n",
       "3    Hollywood North Beach  0.636364           11   \n",
       "4    Hollywood North Beach  0.636364           11   \n",
       "..                     ...       ...          ...   \n",
       "188        Willingham Park  0.769231           13   \n",
       "189        Willingham Park  0.769231           13   \n",
       "190        Willingham Park  0.769231           13   \n",
       "191        Willingham Park  0.769231           13   \n",
       "192        Willingham Park  0.769231           13   \n",
       "\n",
       "                                              poi_name  poi_distance  \\\n",
       "0                           Hollywood North Beach Park             9   \n",
       "1                                            Food King           414   \n",
       "2                         Oceans 13 Sports Bar & Grill           432   \n",
       "3                              Anne Kolb Nature Center           614   \n",
       "4    Marine Environmental Education Center at the C...           696   \n",
       "..                                                 ...           ...   \n",
       "188                                      Art of Petals           203   \n",
       "189                                     Lu Deaner Park           214   \n",
       "190                        Calypso Villas by the Beach           444   \n",
       "191                        Sandra Lee Apartments Motel           540   \n",
       "192                          St Pius X Catholic Church           612   \n",
       "\n",
       "                                           poi_address  \n",
       "0                 3601 N Ocean Dr, Hollywood, FL 33019  \n",
       "1                  3111 N Surf Rd, Hollywood, FL 33019  \n",
       "2                  3111 N Surf Rd, Hollywood, FL 33019  \n",
       "3                 751 Sheridan St, Hollywood, FL 33019  \n",
       "4                  4414 N Surf Rd, Hollywood, FL 33019  \n",
       "..                                                 ...  \n",
       "188        2200 NE 33rd Ave, Fort Lauderdale, FL 33305  \n",
       "189        2125 NE 33rd Ave, Fort Lauderdale, FL 33305  \n",
       "190  2419 NE 33rd Ave (33rd ave.), Fort Lauderdale,...  \n",
       "191        2307 NE 33rd Ave, Fort Lauderdale, FL 33305  \n",
       "192        2500 NE 33rd Ave, Fort Lauderdale, FL 33305  \n",
       "\n",
       "[193 rows x 6 columns]"
      ]
     },
     "execution_count": 5,
     "metadata": {},
     "output_type": "execute_result"
    }
   ],
   "source": [
    "df_fspoi"
   ]
  },
  {
   "cell_type": "code",
   "execution_count": 6,
   "metadata": {},
   "outputs": [],
   "source": [
    "# I'm saving the dataframe to CSV for the next section\n",
    "df_fspoi.to_csv('FourSquarePOI.csv', index=False)"
   ]
  },
  {
   "cell_type": "markdown",
   "metadata": {},
   "source": [
    "### Descriptive Statistics"
   ]
  },
  {
   "cell_type": "code",
   "execution_count": 7,
   "metadata": {},
   "outputs": [
    {
     "data": {
      "text/plain": [
       "(193, 6)"
      ]
     },
     "execution_count": 7,
     "metadata": {},
     "output_type": "execute_result"
    }
   ],
   "source": [
    "df_fspoi.shape"
   ]
  },
  {
   "cell_type": "code",
   "execution_count": 8,
   "metadata": {},
   "outputs": [
    {
     "data": {
      "text/plain": [
       "<bound method DataFrame.info of                    station     usage  total_bikes  \\\n",
       "0    Hollywood North Beach  0.636364           11   \n",
       "1    Hollywood North Beach  0.636364           11   \n",
       "2    Hollywood North Beach  0.636364           11   \n",
       "3    Hollywood North Beach  0.636364           11   \n",
       "4    Hollywood North Beach  0.636364           11   \n",
       "..                     ...       ...          ...   \n",
       "188        Willingham Park  0.769231           13   \n",
       "189        Willingham Park  0.769231           13   \n",
       "190        Willingham Park  0.769231           13   \n",
       "191        Willingham Park  0.769231           13   \n",
       "192        Willingham Park  0.769231           13   \n",
       "\n",
       "                                              poi_name  poi_distance  \\\n",
       "0                           Hollywood North Beach Park             9   \n",
       "1                                            Food King           414   \n",
       "2                         Oceans 13 Sports Bar & Grill           432   \n",
       "3                              Anne Kolb Nature Center           614   \n",
       "4    Marine Environmental Education Center at the C...           696   \n",
       "..                                                 ...           ...   \n",
       "188                                      Art of Petals           203   \n",
       "189                                     Lu Deaner Park           214   \n",
       "190                        Calypso Villas by the Beach           444   \n",
       "191                        Sandra Lee Apartments Motel           540   \n",
       "192                          St Pius X Catholic Church           612   \n",
       "\n",
       "                                           poi_address  \n",
       "0                 3601 N Ocean Dr, Hollywood, FL 33019  \n",
       "1                  3111 N Surf Rd, Hollywood, FL 33019  \n",
       "2                  3111 N Surf Rd, Hollywood, FL 33019  \n",
       "3                 751 Sheridan St, Hollywood, FL 33019  \n",
       "4                  4414 N Surf Rd, Hollywood, FL 33019  \n",
       "..                                                 ...  \n",
       "188        2200 NE 33rd Ave, Fort Lauderdale, FL 33305  \n",
       "189        2125 NE 33rd Ave, Fort Lauderdale, FL 33305  \n",
       "190  2419 NE 33rd Ave (33rd ave.), Fort Lauderdale,...  \n",
       "191        2307 NE 33rd Ave, Fort Lauderdale, FL 33305  \n",
       "192        2500 NE 33rd Ave, Fort Lauderdale, FL 33305  \n",
       "\n",
       "[193 rows x 6 columns]>"
      ]
     },
     "execution_count": 8,
     "metadata": {},
     "output_type": "execute_result"
    }
   ],
   "source": [
    "df_fspoi.info"
   ]
  },
  {
   "cell_type": "markdown",
   "metadata": {},
   "source": [
    "### Data cleaning - checking for duplicates in points of interest is to be expected, since some stations are within 2000 metres of others.  Stations have no duplicates as checked earlier"
   ]
  },
  {
   "cell_type": "markdown",
   "metadata": {},
   "source": [
    "### Data cleaning - Checking for Null Values¶"
   ]
  },
  {
   "cell_type": "code",
   "execution_count": 9,
   "metadata": {},
   "outputs": [
    {
     "name": "stdout",
     "output_type": "stream",
     "text": [
      "station         0\n",
      "usage           0\n",
      "total_bikes     0\n",
      "poi_name        0\n",
      "poi_distance    0\n",
      "poi_address     0\n",
      "dtype: int64\n"
     ]
    }
   ],
   "source": [
    "print(df_fspoi.isnull().sum())"
   ]
  },
  {
   "cell_type": "code",
   "execution_count": null,
   "metadata": {},
   "outputs": [],
   "source": [
    "#no null values\n",
    "# we won't check for outliers as thats not relevant for foursquare points of interest"
   ]
  },
  {
   "cell_type": "markdown",
   "metadata": {},
   "source": [
    "# Yelp"
   ]
  },
  {
   "cell_type": "markdown",
   "metadata": {},
   "source": [
    "Send a request to Yelp with a small radius (1000m) for all the bike stations in your city of choice. "
   ]
  },
  {
   "cell_type": "code",
   "execution_count": 55,
   "metadata": {},
   "outputs": [
    {
     "name": "stdout",
     "output_type": "stream",
     "text": [
      "libraries imported\n"
     ]
    }
   ],
   "source": [
    "# imports\n",
    "import pandas as pd\n",
    "import json\n",
    "import requests\n",
    "print (\"libraries imported\")"
   ]
  },
  {
   "cell_type": "code",
   "execution_count": 56,
   "metadata": {},
   "outputs": [],
   "source": [
    "def getNearbyYelp(latitude, longitude):\n",
    "    \n",
    "    \n",
    "    # Define my API Key, My Endpoint, and My Header\n",
    "    API_KEY = '4RFCgRndWzUphm4vgIsFet58SboTR76bj7eTDXFL5wwhS3_E6RZ8qnye_qVdiaXqgr1FbR1Y9QxzruU6a6AlcbjRGAtsgaDfis7WsRQY9GTRf4c2AVPibpzdt2P4ZHYx'\n",
    "    ENDPOINT = 'https://api.yelp.com/v3/businesses/search'\n",
    "    HEADERS = {'Authorization': 'bearer %s' % API_KEY}\n",
    "   \n",
    "    \n",
    "    # BUSINESS SEARCH PARAMETERS \n",
    "    PARAMETERS = {'latitude': f\"{latitude}\",\n",
    "              'longitude': f\"{longitude}\",\n",
    "              'radius': 1000}   \n",
    "    \n",
    "    \n",
    "    # Make a request to the Yelp API\n",
    "    response = requests.get(url = ENDPOINT,\n",
    "                        params = PARAMETERS,\n",
    "                        headers = HEADERS)   \n",
    "    \n",
    "    yelp_data = response.json() \n",
    "    \n",
    "    return yelp_data\n",
    "\n"
   ]
  },
  {
   "cell_type": "markdown",
   "metadata": {},
   "source": [
    "Parse through the response to get the POI (such as restaurants, bars, etc) details you want (ratings, name, location, etc)"
   ]
  },
  {
   "cell_type": "code",
   "execution_count": 57,
   "metadata": {},
   "outputs": [],
   "source": [
    "df_yelp_poi = pd.DataFrame(columns=['station','usage','total_bikes','poi_name', 'poi_distance', 'poi_address'])\n",
    "\n",
    "for index, station in stations_df.iterrows():\n",
    "    yelpjson=getNearbyYelp(station['latitude'],station['longitude'])\n",
    "    for business in yelpjson['businesses']:\n",
    "        yelp_info_data = {\n",
    "                \"name\": business['name'],\n",
    "                \"distance\": business['distance'],\n",
    "                \"address\": business['location']['address1']\n",
    "                }\n",
    "        row = [station['name'],station['usage_percentage'],station['total_bikes'],yelp_info_data['name'],yelp_info_data['distance'],yelp_info_data['address']]\n",
    "        df_yelp_poi.loc[len(df_yelp_poi)] = row"
   ]
  },
  {
   "cell_type": "code",
   "execution_count": 58,
   "metadata": {},
   "outputs": [
    {
     "data": {
      "text/plain": [
       "(377, 6)"
      ]
     },
     "execution_count": 58,
     "metadata": {},
     "output_type": "execute_result"
    }
   ],
   "source": [
    "df_yelp_poi.shape"
   ]
  },
  {
   "cell_type": "code",
   "execution_count": 59,
   "metadata": {},
   "outputs": [
    {
     "data": {
      "text/plain": [
       "<bound method DataFrame.info of                    station     usage  total_bikes  \\\n",
       "0    Hollywood North Beach  0.636364           11   \n",
       "1    Hollywood North Beach  0.636364           11   \n",
       "2    Hollywood North Beach  0.636364           11   \n",
       "3    Hollywood North Beach  0.636364           11   \n",
       "4    Hollywood North Beach  0.636364           11   \n",
       "..                     ...       ...          ...   \n",
       "372        Willingham Park  0.857143           14   \n",
       "373        Willingham Park  0.857143           14   \n",
       "374        Willingham Park  0.857143           14   \n",
       "375        Willingham Park  0.857143           14   \n",
       "376        Willingham Park  0.857143           14   \n",
       "\n",
       "                           poi_name  poi_distance               poi_address  \n",
       "0        Hollywood North Beach Park     38.693472           3601 N Ocean Dr  \n",
       "1    Latitudes Restaurant Hollywood    794.731229       2501 North Ocean Dr  \n",
       "2      Oceans 13 Sports Bar & Grill    451.282571            3111 N Surf Rd  \n",
       "3           Anne Kolb Nature Center    685.543129           751 Sheridan St  \n",
       "4                     Keating Beach     62.695769         1175-1199 Surf Rd  \n",
       "..                              ...           ...                       ...  \n",
       "372                 Willingham Park     78.929008      2100 N Atlantic Blvd  \n",
       "373                  Lu Deaner Park    217.537675          2125 NE 33rd Ave  \n",
       "374                 Loggerhead Park    741.500463           3698 NE 27th St  \n",
       "375                    Moreth House    508.069849           3000 NE 19th St  \n",
       "376                      Vista Park    978.913383  2900 North Atlantic Blvd  \n",
       "\n",
       "[377 rows x 6 columns]>"
      ]
     },
     "execution_count": 59,
     "metadata": {},
     "output_type": "execute_result"
    }
   ],
   "source": [
    "df_yelp_poi.info"
   ]
  },
  {
   "cell_type": "markdown",
   "metadata": {},
   "source": [
    "### Data cleaning - checking for duplicates in points of interest is to be expected, since some stations are within 2000 metres of others. Stations have no duplicates as checked earlier"
   ]
  },
  {
   "cell_type": "markdown",
   "metadata": {},
   "source": [
    "### Data cleaning - checking for null values"
   ]
  },
  {
   "cell_type": "code",
   "execution_count": 60,
   "metadata": {},
   "outputs": [
    {
     "name": "stdout",
     "output_type": "stream",
     "text": [
      "station         0\n",
      "usage           0\n",
      "total_bikes     0\n",
      "poi_name        0\n",
      "poi_distance    0\n",
      "poi_address     0\n",
      "dtype: int64\n"
     ]
    }
   ],
   "source": [
    "print(df_yelp_poi.isnull().sum())"
   ]
  },
  {
   "cell_type": "code",
   "execution_count": 119,
   "metadata": {},
   "outputs": [],
   "source": [
    "#no null values\n",
    "# we won't check for outliers as thats not relevant for foursquare points of interest"
   ]
  },
  {
   "cell_type": "markdown",
   "metadata": {},
   "source": [
    "Put your parsed results into a DataFrame"
   ]
  },
  {
   "cell_type": "code",
   "execution_count": 61,
   "metadata": {
    "scrolled": true
   },
   "outputs": [
    {
     "data": {
      "text/html": [
       "<div>\n",
       "<style scoped>\n",
       "    .dataframe tbody tr th:only-of-type {\n",
       "        vertical-align: middle;\n",
       "    }\n",
       "\n",
       "    .dataframe tbody tr th {\n",
       "        vertical-align: top;\n",
       "    }\n",
       "\n",
       "    .dataframe thead th {\n",
       "        text-align: right;\n",
       "    }\n",
       "</style>\n",
       "<table border=\"1\" class=\"dataframe\">\n",
       "  <thead>\n",
       "    <tr style=\"text-align: right;\">\n",
       "      <th></th>\n",
       "      <th>station</th>\n",
       "      <th>usage</th>\n",
       "      <th>total_bikes</th>\n",
       "      <th>poi_name</th>\n",
       "      <th>poi_distance</th>\n",
       "      <th>poi_address</th>\n",
       "    </tr>\n",
       "  </thead>\n",
       "  <tbody>\n",
       "    <tr>\n",
       "      <th>0</th>\n",
       "      <td>Hollywood North Beach</td>\n",
       "      <td>0.636364</td>\n",
       "      <td>11</td>\n",
       "      <td>Hollywood North Beach Park</td>\n",
       "      <td>38.693472</td>\n",
       "      <td>3601 N Ocean Dr</td>\n",
       "    </tr>\n",
       "    <tr>\n",
       "      <th>1</th>\n",
       "      <td>Hollywood North Beach</td>\n",
       "      <td>0.636364</td>\n",
       "      <td>11</td>\n",
       "      <td>Latitudes Restaurant Hollywood</td>\n",
       "      <td>794.731229</td>\n",
       "      <td>2501 North Ocean Dr</td>\n",
       "    </tr>\n",
       "    <tr>\n",
       "      <th>2</th>\n",
       "      <td>Hollywood North Beach</td>\n",
       "      <td>0.636364</td>\n",
       "      <td>11</td>\n",
       "      <td>Oceans 13 Sports Bar &amp; Grill</td>\n",
       "      <td>451.282571</td>\n",
       "      <td>3111 N Surf Rd</td>\n",
       "    </tr>\n",
       "    <tr>\n",
       "      <th>3</th>\n",
       "      <td>Hollywood North Beach</td>\n",
       "      <td>0.636364</td>\n",
       "      <td>11</td>\n",
       "      <td>Anne Kolb Nature Center</td>\n",
       "      <td>685.543129</td>\n",
       "      <td>751 Sheridan St</td>\n",
       "    </tr>\n",
       "    <tr>\n",
       "      <th>4</th>\n",
       "      <td>Hollywood North Beach</td>\n",
       "      <td>0.636364</td>\n",
       "      <td>11</td>\n",
       "      <td>Keating Beach</td>\n",
       "      <td>62.695769</td>\n",
       "      <td>1175-1199 Surf Rd</td>\n",
       "    </tr>\n",
       "    <tr>\n",
       "      <th>...</th>\n",
       "      <td>...</td>\n",
       "      <td>...</td>\n",
       "      <td>...</td>\n",
       "      <td>...</td>\n",
       "      <td>...</td>\n",
       "      <td>...</td>\n",
       "    </tr>\n",
       "    <tr>\n",
       "      <th>372</th>\n",
       "      <td>Willingham Park</td>\n",
       "      <td>0.857143</td>\n",
       "      <td>14</td>\n",
       "      <td>Willingham Park</td>\n",
       "      <td>78.929008</td>\n",
       "      <td>2100 N Atlantic Blvd</td>\n",
       "    </tr>\n",
       "    <tr>\n",
       "      <th>373</th>\n",
       "      <td>Willingham Park</td>\n",
       "      <td>0.857143</td>\n",
       "      <td>14</td>\n",
       "      <td>Lu Deaner Park</td>\n",
       "      <td>217.537675</td>\n",
       "      <td>2125 NE 33rd Ave</td>\n",
       "    </tr>\n",
       "    <tr>\n",
       "      <th>374</th>\n",
       "      <td>Willingham Park</td>\n",
       "      <td>0.857143</td>\n",
       "      <td>14</td>\n",
       "      <td>Loggerhead Park</td>\n",
       "      <td>741.500463</td>\n",
       "      <td>3698 NE 27th St</td>\n",
       "    </tr>\n",
       "    <tr>\n",
       "      <th>375</th>\n",
       "      <td>Willingham Park</td>\n",
       "      <td>0.857143</td>\n",
       "      <td>14</td>\n",
       "      <td>Moreth House</td>\n",
       "      <td>508.069849</td>\n",
       "      <td>3000 NE 19th St</td>\n",
       "    </tr>\n",
       "    <tr>\n",
       "      <th>376</th>\n",
       "      <td>Willingham Park</td>\n",
       "      <td>0.857143</td>\n",
       "      <td>14</td>\n",
       "      <td>Vista Park</td>\n",
       "      <td>978.913383</td>\n",
       "      <td>2900 North Atlantic Blvd</td>\n",
       "    </tr>\n",
       "  </tbody>\n",
       "</table>\n",
       "<p>377 rows × 6 columns</p>\n",
       "</div>"
      ],
      "text/plain": [
       "                   station     usage  total_bikes  \\\n",
       "0    Hollywood North Beach  0.636364           11   \n",
       "1    Hollywood North Beach  0.636364           11   \n",
       "2    Hollywood North Beach  0.636364           11   \n",
       "3    Hollywood North Beach  0.636364           11   \n",
       "4    Hollywood North Beach  0.636364           11   \n",
       "..                     ...       ...          ...   \n",
       "372        Willingham Park  0.857143           14   \n",
       "373        Willingham Park  0.857143           14   \n",
       "374        Willingham Park  0.857143           14   \n",
       "375        Willingham Park  0.857143           14   \n",
       "376        Willingham Park  0.857143           14   \n",
       "\n",
       "                           poi_name  poi_distance               poi_address  \n",
       "0        Hollywood North Beach Park     38.693472           3601 N Ocean Dr  \n",
       "1    Latitudes Restaurant Hollywood    794.731229       2501 North Ocean Dr  \n",
       "2      Oceans 13 Sports Bar & Grill    451.282571            3111 N Surf Rd  \n",
       "3           Anne Kolb Nature Center    685.543129           751 Sheridan St  \n",
       "4                     Keating Beach     62.695769         1175-1199 Surf Rd  \n",
       "..                              ...           ...                       ...  \n",
       "372                 Willingham Park     78.929008      2100 N Atlantic Blvd  \n",
       "373                  Lu Deaner Park    217.537675          2125 NE 33rd Ave  \n",
       "374                 Loggerhead Park    741.500463           3698 NE 27th St  \n",
       "375                    Moreth House    508.069849           3000 NE 19th St  \n",
       "376                      Vista Park    978.913383  2900 North Atlantic Blvd  \n",
       "\n",
       "[377 rows x 6 columns]"
      ]
     },
     "execution_count": 61,
     "metadata": {},
     "output_type": "execute_result"
    }
   ],
   "source": [
    "df_yelp_poi"
   ]
  },
  {
   "cell_type": "code",
   "execution_count": 62,
   "metadata": {},
   "outputs": [],
   "source": [
    "# I'm saving the dataframe to CSV for the next section\n",
    "df_yelp_poi.to_csv('YelpPOI.csv', index=False)"
   ]
  },
  {
   "cell_type": "markdown",
   "metadata": {},
   "source": [
    "# Comparing Results"
   ]
  },
  {
   "cell_type": "markdown",
   "metadata": {},
   "source": [
    "Which API provided you with more complete data? Provide an explanation. "
   ]
  },
  {
   "cell_type": "markdown",
   "metadata": {},
   "source": [
    "### Generally yelp seems to provide a higher quality of information considering they give a rating to the businesses involved, also they simply have many more businesses tracked as points of interest in Fort Lauderdale than foursquare does. "
   ]
  },
  {
   "cell_type": "markdown",
   "metadata": {},
   "source": [
    "Get the top 10 restaurants according to their rating"
   ]
  },
  {
   "cell_type": "code",
   "execution_count": 155,
   "metadata": {},
   "outputs": [
    {
     "name": "stdout",
     "output_type": "stream",
     "text": [
      "{'name': 'Poblano South', 'address': '1315 SW First Ct'}\n",
      "{'name': 'Grapes Wine Cafe & Market', 'address': '3311 N Ocean Blvd'}\n",
      "{'name': 'Newbury Salads', 'address': '75 Main St'}\n",
      "{'name': 'Mr Bill BBQ', 'address': ''}\n",
      "{'name': 'Island Flavor cafe', 'address': '7958 W McNab Rd N'}\n",
      "{'name': 'Yumbo Poke', 'address': '3325 E Oakland Park Blvd'}\n",
      "{'name': 'Pots & Pans Cafe', 'address': '952 NE 62nd St'}\n",
      "{'name': 'La Villa', 'address': '717 Breakers Ave'}\n",
      "{'name': 'Danlu Cafe', 'address': '200 E Broward Blvd'}\n",
      "{'name': 'Luka Restaurant', 'address': '244 S University Dr'}\n"
     ]
    }
   ],
   "source": [
    "    import pandas as pd\n",
    "    import json\n",
    "    \n",
    "    # Define my API Key, My Endpoint, and My Header\n",
    "    API_KEY = '4RFCgRndWzUphm4vgIsFet58SboTR76bj7eTDXFL5wwhS3_E6RZ8qnye_qVdiaXqgr1FbR1Y9QxzruU6a6AlcbjRGAtsgaDfis7WsRQY9GTRf4c2AVPibpzdt2P4ZHYx'\n",
    "    ENDPOINT = 'https://api.yelp.com/v3/businesses/search'\n",
    "    HEADERS = {'Authorization': 'bearer %s' % API_KEY}\n",
    "   \n",
    "    \n",
    "    # BUSINESS SEARCH PARAMETERS \n",
    "    PARAMETERS = {'location': \"Fort Lauderdale\",\n",
    "                  'term': \"restaurants\",\n",
    "                  'sort_by': 'rating',\n",
    "                  'limit': 10}\n",
    "    \n",
    "    \n",
    "    # Make a request to the Yelp API\n",
    "    response = requests.get(url = ENDPOINT,\n",
    "                        params = PARAMETERS,\n",
    "                        headers = HEADERS)   \n",
    "    \n",
    "    top10 = response.json()\n",
    "    \n",
    "    \n",
    "    for business in top10['businesses']:\n",
    "                top10_data = {\n",
    "                \"name\": business['name'],\n",
    "                \"address\": business['location']['address1']\n",
    "                }\n",
    "                print (top10_data)\n",
    "                \n",
    " "
   ]
  },
  {
   "cell_type": "markdown",
   "metadata": {},
   "source": [
    "### Top 10 restaurants according to Yelp ratings for Fort Lauderdale are listed above.  Yelp documentation indicates that the: \"rating sort is NOT strictly sorted by the rating value, but by an adjusted rating value that takes into account the number of ratings, similar to a Bayesian average. This is to prevent skewing results to businesses with a single review\".  Due to this (favourable) detail of the Yelp rating sort, I felt is was suitable to just show the top 10 results."
   ]
  }
 ],
 "metadata": {
  "kernelspec": {
   "display_name": "Python 3 (ipykernel)",
   "language": "python",
   "name": "python3"
  },
  "language_info": {
   "codemirror_mode": {
    "name": "ipython",
    "version": 3
   },
   "file_extension": ".py",
   "mimetype": "text/x-python",
   "name": "python",
   "nbconvert_exporter": "python",
   "pygments_lexer": "ipython3",
   "version": "3.10.9"
  }
 },
 "nbformat": 4,
 "nbformat_minor": 4
}
