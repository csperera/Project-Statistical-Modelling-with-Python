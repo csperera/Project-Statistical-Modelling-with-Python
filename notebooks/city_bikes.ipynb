{
 "cells": [
  {
   "cell_type": "markdown",
   "metadata": {},
   "source": [
    "# CityBikes"
   ]
  },
  {
   "cell_type": "markdown",
   "metadata": {},
   "source": [
    "Send a request to CityBikes for the city of your choice. "
   ]
  },
  {
   "cell_type": "code",
   "execution_count": 5,
   "metadata": {},
   "outputs": [],
   "source": [
    "import pandas as pd\n",
    "import requests\n",
    "import json\n",
    "stationsurl = \"http://api.citybik.es/v2/networks/broward\"\n",
    "stations_r=requests.get(stationsurl)\n",
    "stations_r.json=json.loads(stations_r.text)"
   ]
  },
  {
   "cell_type": "markdown",
   "metadata": {},
   "source": [
    "Parse through the response to get the details you want for the bike stations in that city (latitude, longitude, number of bikes). "
   ]
  },
  {
   "cell_type": "code",
   "execution_count": 6,
   "metadata": {},
   "outputs": [],
   "source": [
    "stations_parsed_data = []\n",
    "for info in stations_r.json['network']['stations']:\n",
    "    stations_info_data = {\n",
    "        \"name\": info['name'],\n",
    "        \"latitude\": info['latitude'],\n",
    "        \"longitude\": info['longitude'],\n",
    "        \"free_bikes\": info['free_bikes'],\n",
    "        \"empty_slots\": info['empty_slots'],\n",
    "        \"total_bikes\": (info['empty_slots'] + info ['free_bikes']),\n",
    "        \"usage_percentage\": (info['empty_slots'] / (info['empty_slots'] + info ['free_bikes'])),\n",
    "    }\n",
    "    stations_parsed_data.append(stations_info_data)\n",
    "    stations_parsed_data"
   ]
  },
  {
   "cell_type": "markdown",
   "metadata": {},
   "source": [
    "Put your parsed results into a DataFrame."
   ]
  },
  {
   "cell_type": "code",
   "execution_count": 8,
   "metadata": {},
   "outputs": [
    {
     "data": {
      "text/html": [
       "<div>\n",
       "<style scoped>\n",
       "    .dataframe tbody tr th:only-of-type {\n",
       "        vertical-align: middle;\n",
       "    }\n",
       "\n",
       "    .dataframe tbody tr th {\n",
       "        vertical-align: top;\n",
       "    }\n",
       "\n",
       "    .dataframe thead th {\n",
       "        text-align: right;\n",
       "    }\n",
       "</style>\n",
       "<table border=\"1\" class=\"dataframe\">\n",
       "  <thead>\n",
       "    <tr style=\"text-align: right;\">\n",
       "      <th></th>\n",
       "      <th>name</th>\n",
       "      <th>latitude</th>\n",
       "      <th>longitude</th>\n",
       "      <th>free_bikes</th>\n",
       "      <th>empty_slots</th>\n",
       "      <th>total_bikes</th>\n",
       "      <th>usage_percentage</th>\n",
       "    </tr>\n",
       "  </thead>\n",
       "  <tbody>\n",
       "    <tr>\n",
       "      <th>0</th>\n",
       "      <td>Hollywood North Beach</td>\n",
       "      <td>26.03444</td>\n",
       "      <td>-80.11455</td>\n",
       "      <td>4</td>\n",
       "      <td>7</td>\n",
       "      <td>11</td>\n",
       "      <td>0.636364</td>\n",
       "    </tr>\n",
       "    <tr>\n",
       "      <th>1</th>\n",
       "      <td>Earl Lifshey 3.0</td>\n",
       "      <td>26.16739</td>\n",
       "      <td>-80.10032</td>\n",
       "      <td>7</td>\n",
       "      <td>5</td>\n",
       "      <td>12</td>\n",
       "      <td>0.416667</td>\n",
       "    </tr>\n",
       "    <tr>\n",
       "      <th>2</th>\n",
       "      <td>Atlantic &amp; Briny</td>\n",
       "      <td>26.23237</td>\n",
       "      <td>-80.08965</td>\n",
       "      <td>4</td>\n",
       "      <td>5</td>\n",
       "      <td>9</td>\n",
       "      <td>0.555556</td>\n",
       "    </tr>\n",
       "    <tr>\n",
       "      <th>3</th>\n",
       "      <td>Esplanade Park</td>\n",
       "      <td>26.12026</td>\n",
       "      <td>-80.14819</td>\n",
       "      <td>6</td>\n",
       "      <td>5</td>\n",
       "      <td>11</td>\n",
       "      <td>0.454545</td>\n",
       "    </tr>\n",
       "    <tr>\n",
       "      <th>4</th>\n",
       "      <td>Bayshore &amp; A1A 3.0</td>\n",
       "      <td>26.12807</td>\n",
       "      <td>-80.10368</td>\n",
       "      <td>11</td>\n",
       "      <td>6</td>\n",
       "      <td>17</td>\n",
       "      <td>0.352941</td>\n",
       "    </tr>\n",
       "    <tr>\n",
       "      <th>5</th>\n",
       "      <td>Holiday Park at Sunrise</td>\n",
       "      <td>26.13707</td>\n",
       "      <td>-80.12981</td>\n",
       "      <td>6</td>\n",
       "      <td>5</td>\n",
       "      <td>11</td>\n",
       "      <td>0.454545</td>\n",
       "    </tr>\n",
       "    <tr>\n",
       "      <th>6</th>\n",
       "      <td>Broadwalk at Jefferson St.</td>\n",
       "      <td>26.00656</td>\n",
       "      <td>-80.11600</td>\n",
       "      <td>11</td>\n",
       "      <td>6</td>\n",
       "      <td>17</td>\n",
       "      <td>0.352941</td>\n",
       "    </tr>\n",
       "    <tr>\n",
       "      <th>7</th>\n",
       "      <td>Las Olas Beach Park</td>\n",
       "      <td>26.11837</td>\n",
       "      <td>-80.10492</td>\n",
       "      <td>7</td>\n",
       "      <td>7</td>\n",
       "      <td>14</td>\n",
       "      <td>0.500000</td>\n",
       "    </tr>\n",
       "    <tr>\n",
       "      <th>8</th>\n",
       "      <td>Las Olas &amp; SE 9th Ave</td>\n",
       "      <td>26.11954</td>\n",
       "      <td>-80.13407</td>\n",
       "      <td>11</td>\n",
       "      <td>0</td>\n",
       "      <td>11</td>\n",
       "      <td>0.000000</td>\n",
       "    </tr>\n",
       "    <tr>\n",
       "      <th>9</th>\n",
       "      <td>George English Park</td>\n",
       "      <td>26.13813</td>\n",
       "      <td>-80.11570</td>\n",
       "      <td>6</td>\n",
       "      <td>5</td>\n",
       "      <td>11</td>\n",
       "      <td>0.454545</td>\n",
       "    </tr>\n",
       "    <tr>\n",
       "      <th>10</th>\n",
       "      <td>Galleria</td>\n",
       "      <td>26.13776</td>\n",
       "      <td>-80.11248</td>\n",
       "      <td>6</td>\n",
       "      <td>5</td>\n",
       "      <td>11</td>\n",
       "      <td>0.454545</td>\n",
       "    </tr>\n",
       "    <tr>\n",
       "      <th>11</th>\n",
       "      <td>Courthouse (540 Bldg)</td>\n",
       "      <td>26.11501</td>\n",
       "      <td>-80.14008</td>\n",
       "      <td>5</td>\n",
       "      <td>6</td>\n",
       "      <td>11</td>\n",
       "      <td>0.545455</td>\n",
       "    </tr>\n",
       "    <tr>\n",
       "      <th>12</th>\n",
       "      <td>Sunrise &amp; Ocean 3.0</td>\n",
       "      <td>26.13778</td>\n",
       "      <td>-80.10325</td>\n",
       "      <td>3</td>\n",
       "      <td>10</td>\n",
       "      <td>13</td>\n",
       "      <td>0.769231</td>\n",
       "    </tr>\n",
       "    <tr>\n",
       "      <th>13</th>\n",
       "      <td>Las Olas Parking Garage</td>\n",
       "      <td>26.11975</td>\n",
       "      <td>-80.10715</td>\n",
       "      <td>7</td>\n",
       "      <td>4</td>\n",
       "      <td>11</td>\n",
       "      <td>0.363636</td>\n",
       "    </tr>\n",
       "    <tr>\n",
       "      <th>14</th>\n",
       "      <td>Lauderdale by the Sea</td>\n",
       "      <td>26.19081</td>\n",
       "      <td>-80.09666</td>\n",
       "      <td>5</td>\n",
       "      <td>5</td>\n",
       "      <td>10</td>\n",
       "      <td>0.500000</td>\n",
       "    </tr>\n",
       "    <tr>\n",
       "      <th>15</th>\n",
       "      <td>Convention Center 3.0</td>\n",
       "      <td>26.10088</td>\n",
       "      <td>-80.12377</td>\n",
       "      <td>8</td>\n",
       "      <td>4</td>\n",
       "      <td>12</td>\n",
       "      <td>0.333333</td>\n",
       "    </tr>\n",
       "    <tr>\n",
       "      <th>16</th>\n",
       "      <td>Sebastian Lot 3.0</td>\n",
       "      <td>26.12431</td>\n",
       "      <td>-80.10410</td>\n",
       "      <td>8</td>\n",
       "      <td>6</td>\n",
       "      <td>14</td>\n",
       "      <td>0.428571</td>\n",
       "    </tr>\n",
       "    <tr>\n",
       "      <th>17</th>\n",
       "      <td>South Beach Lot 3.0</td>\n",
       "      <td>26.11414</td>\n",
       "      <td>-80.10482</td>\n",
       "      <td>4</td>\n",
       "      <td>5</td>\n",
       "      <td>9</td>\n",
       "      <td>0.555556</td>\n",
       "    </tr>\n",
       "    <tr>\n",
       "      <th>18</th>\n",
       "      <td>South Beach Lot #2 3.0</td>\n",
       "      <td>26.10985</td>\n",
       "      <td>-80.10608</td>\n",
       "      <td>5</td>\n",
       "      <td>6</td>\n",
       "      <td>11</td>\n",
       "      <td>0.545455</td>\n",
       "    </tr>\n",
       "    <tr>\n",
       "      <th>19</th>\n",
       "      <td>Willingham Park</td>\n",
       "      <td>26.15495</td>\n",
       "      <td>-80.10109</td>\n",
       "      <td>3</td>\n",
       "      <td>10</td>\n",
       "      <td>13</td>\n",
       "      <td>0.769231</td>\n",
       "    </tr>\n",
       "  </tbody>\n",
       "</table>\n",
       "</div>"
      ],
      "text/plain": [
       "                          name  latitude  longitude  free_bikes  empty_slots  \\\n",
       "0        Hollywood North Beach  26.03444  -80.11455           4            7   \n",
       "1             Earl Lifshey 3.0  26.16739  -80.10032           7            5   \n",
       "2             Atlantic & Briny  26.23237  -80.08965           4            5   \n",
       "3               Esplanade Park  26.12026  -80.14819           6            5   \n",
       "4           Bayshore & A1A 3.0  26.12807  -80.10368          11            6   \n",
       "5      Holiday Park at Sunrise  26.13707  -80.12981           6            5   \n",
       "6   Broadwalk at Jefferson St.  26.00656  -80.11600          11            6   \n",
       "7          Las Olas Beach Park  26.11837  -80.10492           7            7   \n",
       "8        Las Olas & SE 9th Ave  26.11954  -80.13407          11            0   \n",
       "9          George English Park  26.13813  -80.11570           6            5   \n",
       "10                    Galleria  26.13776  -80.11248           6            5   \n",
       "11       Courthouse (540 Bldg)  26.11501  -80.14008           5            6   \n",
       "12         Sunrise & Ocean 3.0  26.13778  -80.10325           3           10   \n",
       "13     Las Olas Parking Garage  26.11975  -80.10715           7            4   \n",
       "14       Lauderdale by the Sea  26.19081  -80.09666           5            5   \n",
       "15       Convention Center 3.0  26.10088  -80.12377           8            4   \n",
       "16           Sebastian Lot 3.0  26.12431  -80.10410           8            6   \n",
       "17         South Beach Lot 3.0  26.11414  -80.10482           4            5   \n",
       "18      South Beach Lot #2 3.0  26.10985  -80.10608           5            6   \n",
       "19             Willingham Park  26.15495  -80.10109           3           10   \n",
       "\n",
       "    total_bikes  usage_percentage  \n",
       "0            11          0.636364  \n",
       "1            12          0.416667  \n",
       "2             9          0.555556  \n",
       "3            11          0.454545  \n",
       "4            17          0.352941  \n",
       "5            11          0.454545  \n",
       "6            17          0.352941  \n",
       "7            14          0.500000  \n",
       "8            11          0.000000  \n",
       "9            11          0.454545  \n",
       "10           11          0.454545  \n",
       "11           11          0.545455  \n",
       "12           13          0.769231  \n",
       "13           11          0.363636  \n",
       "14           10          0.500000  \n",
       "15           12          0.333333  \n",
       "16           14          0.428571  \n",
       "17            9          0.555556  \n",
       "18           11          0.545455  \n",
       "19           13          0.769231  "
      ]
     },
     "execution_count": 8,
     "metadata": {},
     "output_type": "execute_result"
    }
   ],
   "source": [
    "import pandas as pd\n",
    "stations_df = pd.DataFrame(stations_parsed_data)\n",
    "stations_df"
   ]
  },
  {
   "cell_type": "code",
   "execution_count": 13,
   "metadata": {},
   "outputs": [],
   "source": [
    "# I'm saving the dataframe to CSV for the next section\n",
    "stations_df.to_csv('stations.csv', index=False)"
   ]
  },
  {
   "cell_type": "markdown",
   "metadata": {},
   "source": [
    "## Descriptive statistics"
   ]
  },
  {
   "cell_type": "code",
   "execution_count": 9,
   "metadata": {},
   "outputs": [
    {
     "name": "stdout",
     "output_type": "stream",
     "text": [
      "        latitude  longitude  free_bikes  empty_slots  total_bikes  \\\n",
      "count  20.000000  20.000000   20.000000    20.000000    20.000000   \n",
      "mean   26.125372 -80.112819    6.350000     5.600000    11.950000   \n",
      "std     0.047343   0.015257    2.476734     2.087557     2.187885   \n",
      "min    26.006560 -80.148190    3.000000     0.000000     9.000000   \n",
      "25%    26.114793 -80.117942    4.750000     5.000000    11.000000   \n",
      "50%    26.122285 -80.106615    6.000000     5.000000    11.000000   \n",
      "75%    26.137867 -80.103572    7.250000     6.000000    13.000000   \n",
      "max    26.232370 -80.089650   11.000000    10.000000    17.000000   \n",
      "\n",
      "       usage_percentage  \n",
      "count         20.000000  \n",
      "mean           0.472156  \n",
      "std            0.165164  \n",
      "min            0.000000  \n",
      "25%            0.403409  \n",
      "50%            0.454545  \n",
      "75%            0.547980  \n",
      "max            0.769231  \n"
     ]
    }
   ],
   "source": [
    "print(stations_df.describe())"
   ]
  },
  {
   "cell_type": "markdown",
   "metadata": {},
   "source": [
    "## Checking types of data"
   ]
  },
  {
   "cell_type": "code",
   "execution_count": 10,
   "metadata": {},
   "outputs": [
    {
     "name": "stdout",
     "output_type": "stream",
     "text": [
      "<class 'pandas.core.frame.DataFrame'>\n",
      "RangeIndex: 20 entries, 0 to 19\n",
      "Data columns (total 7 columns):\n",
      " #   Column            Non-Null Count  Dtype  \n",
      "---  ------            --------------  -----  \n",
      " 0   name              20 non-null     object \n",
      " 1   latitude          20 non-null     float64\n",
      " 2   longitude         20 non-null     float64\n",
      " 3   free_bikes        20 non-null     int64  \n",
      " 4   empty_slots       20 non-null     int64  \n",
      " 5   total_bikes       20 non-null     int64  \n",
      " 6   usage_percentage  20 non-null     float64\n",
      "dtypes: float64(3), int64(3), object(1)\n",
      "memory usage: 1.2+ KB\n"
     ]
    }
   ],
   "source": [
    "stations_df.info()"
   ]
  },
  {
   "cell_type": "markdown",
   "metadata": {},
   "source": [
    "## Data cleaning - Checking for duplicates"
   ]
  },
  {
   "cell_type": "code",
   "execution_count": 6,
   "metadata": {},
   "outputs": [],
   "source": [
    "## for this small a dataframe, it can be done visually, but I thought I'd show the code"
   ]
  },
  {
   "cell_type": "code",
   "execution_count": 11,
   "metadata": {},
   "outputs": [
    {
     "name": "stdout",
     "output_type": "stream",
     "text": [
      "0\n"
     ]
    }
   ],
   "source": [
    "print(stations_df.duplicated().sum())"
   ]
  },
  {
   "cell_type": "code",
   "execution_count": 8,
   "metadata": {},
   "outputs": [],
   "source": [
    "# so no duplicates, hence none to drop"
   ]
  },
  {
   "cell_type": "markdown",
   "metadata": {},
   "source": [
    "## Data cleaning - Checking for Null Values"
   ]
  },
  {
   "cell_type": "code",
   "execution_count": 12,
   "metadata": {},
   "outputs": [
    {
     "name": "stdout",
     "output_type": "stream",
     "text": [
      "name                0\n",
      "latitude            0\n",
      "longitude           0\n",
      "free_bikes          0\n",
      "empty_slots         0\n",
      "total_bikes         0\n",
      "usage_percentage    0\n",
      "dtype: int64\n"
     ]
    }
   ],
   "source": [
    "print(stations_df.isnull().sum())"
   ]
  },
  {
   "cell_type": "code",
   "execution_count": 11,
   "metadata": {},
   "outputs": [],
   "source": [
    "# so no null values either, hence none to drop\n",
    "# we won't check for outliers as thats not relevant for stations"
   ]
  }
 ],
 "metadata": {
  "kernelspec": {
   "display_name": "Python 3 (ipykernel)",
   "language": "python",
   "name": "python3"
  },
  "language_info": {
   "codemirror_mode": {
    "name": "ipython",
    "version": 3
   },
   "file_extension": ".py",
   "mimetype": "text/x-python",
   "name": "python",
   "nbconvert_exporter": "python",
   "pygments_lexer": "ipython3",
   "version": "3.10.9"
  }
 },
 "nbformat": 4,
 "nbformat_minor": 4
}
